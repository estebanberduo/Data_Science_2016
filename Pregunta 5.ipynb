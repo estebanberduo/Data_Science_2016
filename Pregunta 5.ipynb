{
 "cells": [
  {
   "cell_type": "markdown",
   "metadata": {},
   "source": [
    "# Pregunta 5\n",
    "## ¿Probabilidad de que alguien de edad k compre un seguro?"
   ]
  },
  {
   "cell_type": "markdown",
   "metadata": {},
   "source": [
    "### Procedimiento\n",
    "Devuelve un DataFrame con3 la probabilidad de compra de un seguro por cada edad comprendida entre la edad mínima y máxima en la base de datos Allstate."
   ]
  },
  {
   "cell_type": "code",
   "execution_count": null,
   "metadata": {
    "collapsed": true
   },
   "outputs": [],
   "source": [
    "import pandas as pd\n",
    "import seaborn as sns\n",
    "import matplotlib.pyplot as plt\n",
    "allstate = pd.read_csv('allstate.csv')\n",
    "datos = allstate[['age_youngest']]\n",
    "def probAge(edad):\n",
    "    datos=allstate[allstate['age_youngest']==edad]\n",
    "    allData=sum(allstate['record_type']==1)\n",
    "    \n",
    "    datos=allstate[allstate['age_youngest']==edad]\n",
    "    purchased=sum(datos['record_type']==1)\n",
    "    porc=((purchased/1.0)/(allData/1.0))*100\n",
    "    return porc\n",
    "\n",
    "max_value = datos.max()\n",
    "min_value = datos.min()\n",
    "listaDeValores = []\n",
    "for i in range(min_value,max_value+1):\n",
    "    row = [int(i), str(str(float(probAge(i)))+'%')]\n",
    "    listaDeValores.append(row)\n",
    "nombre = pd.Series((v[0] for v in listaDeValores))\n",
    "nombreDeSerie = pd.Series((v[1] for v in listaDeValores))\n",
    "newDataFrame = pd.concat([nombre,nombreDeSerie], axis = 1)\n",
    "newDataFrame.columns = ('Edad','Porcentaje')"
   ]
  }
 ],
 "metadata": {
  "kernelspec": {
   "display_name": "Python 2",
   "language": "python",
   "name": "python2"
  },
  "language_info": {
   "codemirror_mode": {
    "name": "ipython",
    "version": 2
   },
   "file_extension": ".py",
   "mimetype": "text/x-python",
   "name": "python",
   "nbconvert_exporter": "python",
   "pygments_lexer": "ipython2",
   "version": "2.7.11"
  }
 },
 "nbformat": 4,
 "nbformat_minor": 0
}
