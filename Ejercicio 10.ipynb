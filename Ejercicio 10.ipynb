{
 "cells": [
  {
   "cell_type": "markdown",
   "metadata": {},
   "source": [
    "# Ejercicio 10\n",
    "## ¿Qué edad necesita menos cotizaciones para comprar un seguro?"
   ]
  },
  {
   "cell_type": "markdown",
   "metadata": {},
   "source": [
    "### Procedimiento:\n",
    "Se extrae la base de datos hacia un DataFrame, se filtra por record_type, shopping_pt y age_youngest y se extraen los registros que terminaron en compra, luego se obtiene la mínima cantidad de cotizaciones y se filtra por este número, después se obtiene la moda y finalmente se imprime la edad que necesita menos cotizaciones."
   ]
  },
  {
   "cell_type": "code",
   "execution_count": null,
   "metadata": {
    "collapsed": true
   },
   "outputs": [],
   "source": [
    "import pandas as pd #Librería que contiene los comandos a utilizar.\n",
    "allstate = pd.read_csv('allstate.csv') #Archivo .csv que contiene la base de datos. Se extrae hacia un DataFrame.\n",
    "\n",
    "df3 = allstate[['record_type','shopping_pt','age_youngest']] #Filtra el DataFrame por estos tres campos.\n",
    "dfbought = df3[df3.record_type == 1] #Extrae los registros que terminaron en compra.\n",
    "mincot = min(dfbought.shopping_pt) #Obtiene la mínima cantidad de cotizaciones necesaria para vender.\n",
    "mincot_df = dfbought[dfbought.shopping_pt == mincot] #Obtiene los registros de las ventas que necesitaron menos cotizaciones.\n",
    "mode = mincot_df.mode() #Obtiene la moda del DataFrame Anterior.\n",
    "print 'Edad que necesita menos cotizaciones: ' + str(int(mode.age_youngest)) #Imprime la edad que menos cotizaciones necesita."
   ]
  }
 ],
 "metadata": {
  "kernelspec": {
   "display_name": "Python 2",
   "language": "python",
   "name": "python2"
  },
  "language_info": {
   "codemirror_mode": {
    "name": "ipython",
    "version": 2
   },
   "file_extension": ".py",
   "mimetype": "text/x-python",
   "name": "python",
   "nbconvert_exporter": "python",
   "pygments_lexer": "ipython2",
   "version": "2.7.11"
  }
 },
 "nbformat": 4,
 "nbformat_minor": 0
}
