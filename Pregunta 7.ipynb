{
 "cells": [
  {
   "cell_type": "markdown",
   "metadata": {},
   "source": [
    "## ¿Cuántas cotizaciones, previo la compra, realizan los consumidores del estado de Florida?"
   ]
  },
  {
   "cell_type": "markdown",
   "metadata": {},
   "source": [
    "### Librerias"
   ]
  },
  {
   "cell_type": "code",
   "execution_count": null,
   "metadata": {
    "collapsed": true
   },
   "outputs": [],
   "source": [
    "import numpy as np\n",
    "import pandas as pd\n",
    "import matplotlib as mpl\n",
    "import matplotlib.pyplot as plt\n",
    "import seaborn as sns\n",
    "\n",
    "allstate = pd.read_csv('allstate.csv')"
   ]
  },
  {
   "cell_type": "markdown",
   "metadata": {},
   "source": [
    "### Variable "
   ]
  },
  {
   "cell_type": "markdown",
   "metadata": {},
   "source": [
    "State, Shopping_pt"
   ]
  },
  {
   "cell_type": "markdown",
   "metadata": {},
   "source": [
    "### Codigo"
   ]
  },
  {
   "cell_type": "markdown",
   "metadata": {},
   "source": [
    "Declaramos una variable para cada cotización, cada variable compara si el estado es Florida y cuenta el número de  personas que hicieron esa cotizacion. Al final resta las cotizaciones y nos da el número de personas que compraron en cada cotización.  "
   ]
  },
  {
   "cell_type": "code",
   "execution_count": null,
   "metadata": {
    "collapsed": true
   },
   "outputs": [],
   "source": [
    "\n",
    "a = (allstate.state == \"FL\") & (allstate.shopping_pt == 1)\n",
    "a.sum()\n",
    "\n",
    "b = (allstate.state == \"FL\") & (allstate.shopping_pt == 2)\n",
    "b.sum()\n",
    "a.sum()-b.sum()\n",
    "\n",
    "c = (allstate.state == \"FL\") & (allstate.shopping_pt == 3)\n",
    "c.sum()\n",
    "b.sum()-c.sum()\n",
    "\n",
    "d = (allstate.state == \"FL\") & (allstate.shopping_pt == 4)\n",
    "d.sum()\n",
    "c.sum()-d.sum()\n"
   ]
  },
  {
   "cell_type": "markdown",
   "metadata": {},
   "source": [
    "### Resultados"
   ]
  },
  {
   "cell_type": "markdown",
   "metadata": {},
   "source": [
    "#cotización | #Ventas\n",
    "      1     |    0\n",
    "      2     |    0\n",
    "      3     |    0\n",
    "      4     |   745\n",
    "Hasta la cuarta cotización se realizaron las primeras compras. "
   ]
  }
 ],
 "metadata": {
  "kernelspec": {
   "display_name": "Python 2",
   "language": "python",
   "name": "python2"
  },
  "language_info": {
   "codemirror_mode": {
    "name": "ipython",
    "version": 2
   },
   "file_extension": ".py",
   "mimetype": "text/x-python",
   "name": "python",
   "nbconvert_exporter": "python",
   "pygments_lexer": "ipython2",
   "version": "2.7.11"
  }
 },
 "nbformat": 4,
 "nbformat_minor": 0
}
