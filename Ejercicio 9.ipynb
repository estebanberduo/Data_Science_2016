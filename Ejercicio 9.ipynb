{
 "cells": [
  {
   "cell_type": "markdown",
   "metadata": {},
   "source": [
    "# Ejercicio 9\n",
    "\n",
    "## ¿Del total de carros que porcentaje tiene menos de k años?"
   ]
  },
  {
   "cell_type": "markdown",
   "metadata": {},
   "source": [
    "### Procedimiento:\n",
    "Se obtiene el dataframe de Allstate y se extrae el car_age. Luego se crean las variables que contendrán el valor máximo y el mínimo de car_age que se usarán para delimitar el ciclo, así como la lista en la cual se guardarán los valores. Dentro del ciclo se utiliza una función, la cual  obtiene el porcentaje de autos con una edad menor a la edad enviada; esos valores se guardan en la lista creada anteriormente. Finalmente la lista es convertida en un DataFrame para una mejor presentación y se imprime en pantalla."
   ]
  },
  {
   "cell_type": "code",
   "execution_count": 5,
   "metadata": {
    "collapsed": false
   },
   "outputs": [
    {
     "name": "stdout",
     "output_type": "stream",
     "text": [
      "    Edad       Porcentaje\n",
      "0      0             0.0%\n",
      "1      1  0.872605595799%\n",
      "2      2   11.6430088583%\n",
      "3      3   19.2174659413%\n",
      "4      4   25.2890271162%\n",
      "5      5   31.4507800838%\n",
      "6      6   36.3821666774%\n",
      "7      7   43.0507975209%\n",
      "8      8   50.0785420196%\n",
      "9      9    56.760701632%\n",
      "10    10   63.4075361256%\n",
      "11    11   69.3152488767%\n",
      "12    12   74.7527617479%\n",
      "13    13   79.5799768207%\n",
      "14    14   83.5826885873%\n",
      "15    15   87.3445882669%\n",
      "16    16    90.206824813%\n",
      "17    17   92.4447838328%\n",
      "18    18   94.1539183073%\n",
      "19    19   95.3985650486%\n",
      "20    20   96.5131852885%\n",
      "21    21   97.2977035666%\n",
      "22    22   97.8564417233%\n",
      "23    23   98.2668143808%\n",
      "24    24   98.6146540619%\n",
      "25    25   98.8759096218%\n",
      "26    26   99.0929712033%\n",
      "27    27   99.2539635535%\n",
      "28    28   99.3776766294%\n",
      "29    29   99.4810965518%\n",
      "..   ...              ...\n",
      "56    56   99.9854189935%\n",
      "57    57   99.9854189935%\n",
      "58    58   99.9864712311%\n",
      "59    59   99.9876737883%\n",
      "60    60   99.9891769849%\n",
      "61    61   99.9897782635%\n",
      "62    62   99.9918827386%\n",
      "63    63   99.9941375335%\n",
      "64    64   99.9941375335%\n",
      "65    65   99.9950394514%\n",
      "66    66   99.9957910497%\n",
      "67    67   99.9957910497%\n",
      "68    68   99.9957910497%\n",
      "69    69   99.9957910497%\n",
      "70    70   99.9957910497%\n",
      "71    71   99.9957910497%\n",
      "72    72   99.9957910497%\n",
      "73    73   99.9957910497%\n",
      "74    74   99.9957910497%\n",
      "75    75   99.9984968035%\n",
      "76    76   99.9993987214%\n",
      "77    77   99.9993987214%\n",
      "78    78   99.9993987214%\n",
      "79    79   99.9993987214%\n",
      "80    80   99.9993987214%\n",
      "81    81   99.9993987214%\n",
      "82    82   99.9993987214%\n",
      "83    83   99.9993987214%\n",
      "84    84   99.9993987214%\n",
      "85    85   99.9993987214%\n",
      "\n",
      "[86 rows x 2 columns]\n"
     ]
    }
   ],
   "source": [
    "import pandas as pd\n",
    "\n",
    "allstate = pd.read_csv('allstate.csv')\n",
    "\n",
    "df = allstate[['car_age']]\n",
    "\n",
    "def porcentajes_edad(edad): #Devuelve el porcentaje de autos con esa edad.\n",
    "    df1 = allstate[['car_age']]\n",
    "    dftemp = df1[df1.car_age < edad]\n",
    "    porc = (dftemp.count() / df1.count())*100\n",
    "    return porc\n",
    "\n",
    "max_age = df.max() #Se obtiene la edad máxima encontrada en el DataFrame.\n",
    "min_age = df.min() #Se obtiene la edad mínima encontrada en el DataFrame.\n",
    "lista = [] #Los porcentajes se guardan en una lista que será transformada en DataFrame.\n",
    "for i in range(min_age,max_age+1):\n",
    "    fila = [int(i), str(str(float(porcentajes_edad(i)))+'%')]\n",
    "    lista.append(fila)\n",
    "\n",
    "#La lista con los porcentajes se transforma en DataFrame.\n",
    "seriname = pd.Series((v[0] for v in lista))\n",
    "seriest = pd.Series((v[1] for v in lista))\n",
    "df6 = pd.concat([seriname,seriest], axis = 1)\n",
    "df6.columns = ('Edad','Porcentaje')\n",
    "\n",
    "#Se imprime el DataFrame con todos los porcentajes.\n",
    "print df6"
   ]
  }
 ],
 "metadata": {
  "kernelspec": {
   "display_name": "Python 2",
   "language": "python",
   "name": "python2"
  },
  "language_info": {
   "codemirror_mode": {
    "name": "ipython",
    "version": 2
   },
   "file_extension": ".py",
   "mimetype": "text/x-python",
   "name": "python",
   "nbconvert_exporter": "python",
   "pygments_lexer": "ipython2",
   "version": "2.7.11"
  }
 },
 "nbformat": 4,
 "nbformat_minor": 0
}
