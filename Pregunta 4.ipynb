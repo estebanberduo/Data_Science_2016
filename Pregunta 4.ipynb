{
 "cells": [
  {
   "cell_type": "markdown",
   "metadata": {},
   "source": [
    "## ¿Que edad promedio tienen las personas dueñas de carros viejos y carros nuevos?"
   ]
  },
  {
   "cell_type": "markdown",
   "metadata": {},
   "source": [
    "### Librerias"
   ]
  },
  {
   "cell_type": "code",
   "execution_count": null,
   "metadata": {
    "collapsed": true
   },
   "outputs": [],
   "source": [
    "import numpy as np\n",
    "import pandas as pd\n",
    "import matplotlib as mpl\n",
    "import matplotlib.pyplot as plt\n",
    "import seaborn as sns\n",
    "\n",
    "allstate = pd.read_csv('allstate.csv')"
   ]
  },
  {
   "cell_type": "markdown",
   "metadata": {},
   "source": [
    "### Variables "
   ]
  },
  {
   "cell_type": "markdown",
   "metadata": {},
   "source": [
    "Car_age, age,oldest, age_youngest"
   ]
  },
  {
   "cell_type": "markdown",
   "metadata": {},
   "source": [
    "### Carros con mayor edad "
   ]
  },
  {
   "cell_type": "markdown",
   "metadata": {},
   "source": [
    "Tomamos la variable car_age y seleccionamos la mayor, luego de ese grupo que tiene carros con el car_age mayor sacamos el promedio de edad"
   ]
  },
  {
   "cell_type": "code",
   "execution_count": null,
   "metadata": {
    "collapsed": true
   },
   "outputs": [],
   "source": [
    "edad = allstate[['car_age','age_oldest']]  \n",
    "pa = edad[edad.car_age == edad.car_age.max()] \n",
    "p = pa.age_oldest.mean()\n",
    "print p \n",
    "\n",
    "edad = allstate[['car_age','age_youngest']]  \n",
    "pa = edad[edad.car_age == edad.car_age.max()] \n",
    "p = pa.age_youngest.mean()\n",
    "print p "
   ]
  },
  {
   "cell_type": "markdown",
   "metadata": {},
   "source": [
    "### Resultados"
   ]
  },
  {
   "cell_type": "markdown",
   "metadata": {},
   "source": [
    "La edad promedio de de las personas  con carros de mayor edad es de 64 años."
   ]
  },
  {
   "cell_type": "markdown",
   "metadata": {},
   "source": [
    "### Carros con mayor edad "
   ]
  },
  {
   "cell_type": "markdown",
   "metadata": {},
   "source": [
    "Tomamos la variable car_age y seleccionamos la menor, luego de ese grupo que tiene carros con el car_age menor sacamos el promedio de edad"
   ]
  },
  {
   "cell_type": "code",
   "execution_count": null,
   "metadata": {
    "collapsed": true
   },
   "outputs": [],
   "source": [
    "edad = allstate[['car_age','age_oldest']]  \n",
    "pa = edad[edad.car_age == edad.car_age.min()] \n",
    "p = pa.age_oldest.mean()\n",
    "print p \n",
    "    \n",
    "edad = allstate[['car_age','age_youngest']]  \n",
    "pa = edad[edad.car_age == edad.car_age.min()] \n",
    "p = pa.age_youngest.mean()\n",
    "print p "
   ]
  },
  {
   "cell_type": "markdown",
   "metadata": {
    "collapsed": true
   },
   "source": [
    "### Resultados"
   ]
  },
  {
   "cell_type": "markdown",
   "metadata": {
    "collapsed": true
   },
   "source": [
    "La edad promedio de los mas jovenes que tenian el carro mas joven es de 38 años. \n",
    "La edad promedi de las personas con mayor edad que tiene el carro mas jove es de 41 años."
   ]
  }
 ],
 "metadata": {
  "kernelspec": {
   "display_name": "Python 2",
   "language": "python",
   "name": "python2"
  },
  "language_info": {
   "codemirror_mode": {
    "name": "ipython",
    "version": 2
   },
   "file_extension": ".py",
   "mimetype": "text/x-python",
   "name": "python",
   "nbconvert_exporter": "python",
   "pygments_lexer": "ipython2",
   "version": "2.7.11"
  }
 },
 "nbformat": 4,
 "nbformat_minor": 0
}
